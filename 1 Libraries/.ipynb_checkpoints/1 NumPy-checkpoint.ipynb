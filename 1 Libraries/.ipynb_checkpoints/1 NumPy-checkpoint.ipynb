{
 "cells": [
  {
   "cell_type": "code",
   "execution_count": 3,
   "metadata": {},
   "outputs": [
    {
     "name": "stdout",
     "output_type": "stream",
     "text": [
      "[[0 0 0 0]\n",
      " [0 0 0 0]]\n",
      "[[1. 1. 1. 1.]\n",
      " [1. 1. 1. 1.]]\n",
      "[[5 5 5 5]\n",
      " [5 5 5 5]]\n",
      "[[1. 0. 0. 0.]\n",
      " [0. 1. 0. 0.]\n",
      " [0. 0. 1. 0.]\n",
      " [0. 0. 0. 1.]]\n",
      "[[0.35727755 0.07571717 0.03129824 0.83952043]\n",
      " [0.42160483 0.0867233  0.26722254 0.19286855]\n",
      " [0.08769305 0.83628752 0.80341045 0.07995822]]\n",
      "[[[ 0.32698851 -1.69538164]\n",
      "  [ 1.47367328 -0.47485155]\n",
      "  [ 0.86364324  0.53858002]\n",
      "  [ 0.82465105  0.76163503]]\n",
      "\n",
      " [[ 0.84132274  0.73421381]\n",
      "  [ 0.03425642 -0.03223086]\n",
      "  [ 0.08359662 -0.87170853]\n",
      "  [ 0.07885088  1.04547958]]\n",
      "\n",
      " [[ 1.86172568  0.97344583]\n",
      "  [-0.75058581 -0.86585377]\n",
      "  [ 1.45335004  0.74621641]\n",
      "  [-0.6789402  -2.27789819]]]\n",
      "[[5 3 8 9]\n",
      " [4 8 7 5]\n",
      " [9 7 7 8]\n",
      " [4 4 3 9]]\n"
     ]
    }
   ],
   "source": [
    "import numpy as np\n",
    "\n",
    "#create const arrays\n",
    "a=np.zeros((2,4),dtype=np.int64)\n",
    "print(a)\n",
    "a=np.ones((2,4))\n",
    "print(a)\n",
    "\n",
    "# array of constants\n",
    "a=np.full((2,4),5)\n",
    "print(a)\n",
    "\n",
    "# identity matrix\n",
    "a=np.eye(4)   #is a square matrix so only 1 arguement is given\n",
    "print(a)\n",
    "\n",
    "# random matrix\n",
    "a=np.random.random((3,4)) #generate random floats number in the half-open interval [0.0, 1.0)\n",
    "print(a)\n",
    "a=np.random.randn(3,4,2)  #gaussian random variables from the \"standard normal\" distribution.\n",
    "print(a)\n",
    "a=np.random.randint(3,10,(4,4)) # int between low and high\n",
    "print(a)"
   ]
  },
  {
   "cell_type": "code",
   "execution_count": 18,
   "metadata": {},
   "outputs": [
    {
     "name": "stdout",
     "output_type": "stream",
     "text": [
      "(3,)\n",
      "(3,)\n",
      "[[-0.3224172 ]\n",
      " [-0.38405435]\n",
      " [ 1.13376944]\n",
      " [-1.09989127]\n",
      " [-0.17242821]] (5, 1)\n",
      "[[ 8  9 10]\n",
      " [11 12 13]] (2, 3)\n",
      "[[ 8  9]\n",
      " [10 11]\n",
      " [12 13]]\n",
      "[1 2 4 5 6 7 8 8] (8,)\n",
      "[[1 2 4 5]\n",
      " [6 7 8 8]]\n"
     ]
    }
   ],
   "source": [
    "#shape and reshape \n",
    "print(a.shape)\n",
    "#note that shape is not a method .it is an attribute but to use as a method use the below code\n",
    "print(np.shape(a))\n",
    "#it turns out this is neither a row vector nor a column vector\n",
    "#it is a linear array (1-D)\n",
    "# instead its a different data structure called rand 1 array which doesn't behave like a normal vector as shown below\n",
    "a=np.random.randn(5)\n",
    "a=a.reshape((5,1))  #reshape returns ndim array with changed shape\n",
    "a.resize((5,1))  #change same array itself\n",
    "print(a,a.shape)\n",
    "b = np.array([(8,9,10),(11,12,13)])\n",
    "print(b,b.shape)\n",
    "b=b.reshape((3,2))\n",
    "print(b)\n",
    "c=np.array([1,2,4,5,6,7,8,8])\n",
    "print(c,c.shape)\n",
    "c=c.reshape((-1,4))\n",
    "#when u give one of the shape param as -1 then python will automatically find that param using \n",
    "#the other given param\n",
    "print(c)"
   ]
  },
  {
   "cell_type": "markdown",
   "metadata": {},
   "source": [
    "# slicing"
   ]
  },
  {
   "cell_type": "code",
   "execution_count": 5,
   "metadata": {},
   "outputs": [
    {
     "name": "stdout",
     "output_type": "stream",
     "text": [
      "[2 4]\n",
      "4 4\n",
      "[[1 1 1 4]\n",
      " [3 1 1 6]]\n",
      "3\n",
      "[3 5]\n",
      "(2,)\n"
     ]
    }
   ],
   "source": [
    "#slicing of 2D array\n",
    "a=np.array([(1,2,3,4),(3,4,5,6)])\n",
    "print(a[ : , 1])  # return matrix with all rows of given matrix with column value 1\n",
    "print(a[0][3],a[0,3]) #Both are same\n",
    "a[ : , 1:3]=1  #assignment also works \n",
    "\n",
    "#this type of slicing doesn't work with lists..only for numpy\n",
    "print(a)\n",
    "\n",
    "a=np.array([(1,2,3,4),(3,4,5,6)])\n",
    "print(a[0,2])\n",
    "#array(1,2,3,4) is your index 0 and (3,4,5,6) is index 1 of the python numpy array. \n",
    "#Therefore, we have printed the second element from the zeroth index\n",
    "print(a[0:,2])\n",
    "#this gives us the 2nd element from the zeroth and first index of the array.\n",
    "#colon represents all the rows, including zero\n",
    "a=np.array([(8,9),(10,11),(12,13)])\n",
    "print(a[0:2,1].shape)\n",
    "#if we have one more row and we don’t want to get its 2nd element printed just as the image above\n",
    "#NOTE- this is valid when array is 2d that is it has m rows and n columns unlike arrays like [1,[2,3]].\n",
    "#it is not a 2-d numpy array instead if a rank 1 array as if u print its shape it will print (2,)"
   ]
  },
  {
   "cell_type": "markdown",
   "metadata": {},
   "source": [
    "# mathematical operations"
   ]
  },
  {
   "cell_type": "code",
   "execution_count": 6,
   "metadata": {},
   "outputs": [
    {
     "name": "stdout",
     "output_type": "stream",
     "text": [
      "[[ 5  7]\n",
      " [ 9 11]]\n",
      "[[ 5  7]\n",
      " [ 9 11]]\n",
      "[[-3 -3]\n",
      " [-3 -3]]\n",
      "[[-3 -3]\n",
      " [-3 -3]]\n",
      "[[ 4 10]\n",
      " [18 28]]\n",
      "[[ 4 10]\n",
      " [18 28]]\n",
      "[[0.25       0.4       ]\n",
      " [0.5        0.57142857]]\n",
      "[[0.25       0.4       ]\n",
      " [0.5        0.57142857]]\n",
      "[[1.         1.41421356 1.73205081]\n",
      " [1.73205081 2.         2.23606798]]\n",
      "1.2909944487358056\n",
      "[[20 23]\n",
      " [40 45]] [[20 23]\n",
      " [40 45]]\n",
      "[[1 3]\n",
      " [2 4]\n",
      " [3 5]]\n"
     ]
    }
   ],
   "source": [
    "a=np.array([[1,2],[3,4]])\n",
    "b=np.array([[4,5],[6,7]])\n",
    "\n",
    "#element wise add,subt,mult,div\n",
    "print(a+b)\n",
    "print(np.add(a,b))  #shape has to be same\n",
    "print(a-b)\n",
    "print(np.subtract(a,b))\n",
    "print(a*b)\n",
    "print(np.multiply(a,b))\n",
    "print(a/b)\n",
    "print(np.divide(a,b))\n",
    "a=np.array([(1,2,3),(3,4,5)])\n",
    "print(np.sqrt(a))  #element wise sqrt\n",
    "print(np.std(a))\n",
    "#np.sqrt() calculate square root of all the elements\n",
    "#np.std() calculate standard deviation i.e how much each element varies from the mean value of the python numpy array\n",
    "#matrix multiplication\n",
    "\n",
    "# dot product of 2 rank1 array=scalar because it treats one as x,1 and other 1,x arrays\n",
    "a=np.array([[1,2,3],[3,4,5]])\n",
    "b=np.array([[3,4],[4,2],[3,5]])\n",
    "print(a.dot(b),np.dot(a,b))\n",
    "\n",
    "print(a.T)\n",
    "#transpose is exactly the same as a which is not expected for a matrix"
   ]
  },
  {
   "cell_type": "markdown",
   "metadata": {},
   "source": [
    " # statistical functions"
   ]
  },
  {
   "cell_type": "code",
   "execution_count": 7,
   "metadata": {},
   "outputs": [
    {
     "name": "stdout",
     "output_type": "stream",
     "text": [
      "1\n",
      "5\n",
      "18\n",
      "5\n",
      "[ 2.71828183  7.3890561  20.08553692]\n",
      "[0.         0.69314718 1.09861229]\n",
      "[0.         0.30103    0.47712125]\n"
     ]
    }
   ],
   "source": [
    "a= np.array([(1,2,3),(3,4,5)])\n",
    "print(a.min())\n",
    "print(a.max())\n",
    "print(a.sum())\n",
    "print(np.max(a))\n",
    "#a.sum() prints all the elements of a multidimensional array\n",
    "#NOTE the word multidimensional.If you perform this operation on a list that is not a multi/uni dimensional \n",
    "#array like rank 1 array then you will not get desired results.\n",
    "\n",
    "#more maths\n",
    "a= np.array([1,2,3])\n",
    "print(np.exp(a))     #exponential function\n",
    "print(np.log(a))     #natural log\n",
    "print(np.log10(a))   #log base 10"
   ]
  },
  {
   "cell_type": "code",
   "execution_count": 8,
   "metadata": {},
   "outputs": [
    {
     "name": "stdout",
     "output_type": "stream",
     "text": [
      "[[1 2 3 4]\n",
      " [7 6 2 0]]\n",
      "0\n",
      "[1 2 2 0] (4,)\n",
      "[1 0]\n",
      "3.0\n",
      "3.0\n",
      "[4.  4.  2.5 2. ]\n",
      "[2.5  3.75]\n"
     ]
    }
   ],
   "source": [
    "a = np.array([[1,2,3,4],[7,6,2,0]])\n",
    "print(a)\n",
    "print(np.min(a))\n",
    "#Specify axis for the direction in case of multidim array\n",
    "new_array=np.min(a,axis=0)\n",
    "print(new_array,new_array.shape)    #returns rank1 array only!! BEWARE\n",
    "print(np.min(a,axis=1))\n",
    "\n",
    "b = np.array([1,2,3,4,5])\n",
    "m = sum(b)/5\n",
    "print(m)\n",
    "\n",
    "print(np.mean(b))\n",
    "print(np.mean(a,axis=0))\n",
    "print(np.mean(a,axis=1))"
   ]
  },
  {
   "cell_type": "code",
   "execution_count": 9,
   "metadata": {},
   "outputs": [
    {
     "name": "stdout",
     "output_type": "stream",
     "text": [
      "2.0\n",
      "2.4\n",
      "2.4\n",
      "2.4\n",
      "1.854723699099141\n",
      "1.854723699099141\n",
      "3.440000000000001\n",
      "3.4400000000000004\n"
     ]
    }
   ],
   "source": [
    "c = np.array([1,5,4,2,0])\n",
    "print(np.median(c))\n",
    "\n",
    "# Mean vs Average is Weighted\n",
    "print(np.mean(c))\n",
    "\n",
    "# Weights \n",
    "w = np.array([1,1,1,1,1])\n",
    "print(np.average(c,weights=w))\n",
    "print(np.average(c))\n",
    "\n",
    "# Standard Deviation\n",
    "u = np.mean(c)\n",
    "myStd = np.sqrt(np.mean(abs(c-u)**2))\n",
    "print(myStd)\n",
    "\n",
    "#Inbuilt Function\n",
    "dev= np.std(c)\n",
    "print(dev)\n",
    "\n",
    "#Variance\n",
    "print(myStd**2)\n",
    "print(np.var(c))"
   ]
  },
  {
   "cell_type": "code",
   "execution_count": 10,
   "metadata": {},
   "outputs": [
    {
     "name": "stdout",
     "output_type": "stream",
     "text": [
      "18\n",
      "[4 6 8]\n",
      "[ 6 12]\n"
     ]
    }
   ],
   "source": [
    "#in numpy rows are called as axis 1 and the columns are called as axis 0\n",
    "a= np.array([(1,2,3),(3,4,5)])\n",
    "print(np.sum(a))\n",
    "print(a.sum(axis=0))\n",
    "print(a.sum(axis=1))\n",
    "#the sum of all the columns are added where 1+3=4, 2+4=6 and 3+5=8. Similarly, if you replace the axis by 1, \n",
    "#then it will print [6 12] where all the rows get added."
   ]
  },
  {
   "cell_type": "markdown",
   "metadata": {},
   "source": [
    "# More functions and attributes"
   ]
  },
  {
   "cell_type": "code",
   "execution_count": 11,
   "metadata": {},
   "outputs": [
    {
     "name": "stdout",
     "output_type": "stream",
     "text": [
      "1 2\n",
      "int64 6 6 8\n",
      "float64 8\n"
     ]
    }
   ],
   "source": [
    "b=np.ndim([[1,2],3,4])\n",
    "c=np.ndim([[1,2],[2,3]])\n",
    "print(b,c)\n",
    "#np.ndim() returns the no of dim.it can't be used like an attribute like shape which can \n",
    "#be used as both method & attr.\n",
    "print(a.dtype,np.size(a),a.size,a.itemsize)\n",
    "#a.dtype find the data type of the elements that are stored in an array\n",
    "#a.itemsize calculate the byte size of each element\n",
    "#a.size calculate total no of elements\n",
    "c=np.array([1,2.2])\n",
    "print(c.dtype,c.itemsize)\n",
    "#it seems as if c has 1 int and 1 float but python considers both as float when one of them \n",
    "#is float"
   ]
  },
  {
   "cell_type": "code",
   "execution_count": 19,
   "metadata": {},
   "outputs": [
    {
     "name": "stdout",
     "output_type": "stream",
     "text": [
      "3.141592653589793\n",
      "[1.         1.22222222 1.44444444 1.66666667 1.88888889 2.11111111\n",
      " 2.33333333 2.55555556 2.77777778 3.        ] (10,)\n"
     ]
    }
   ],
   "source": [
    "#special functions\n",
    "print(np.pi)\n",
    "#np.pi is the value of pi constant\n",
    "x=np.pi\n",
    "y=np.sin(x)\n",
    "z=np.tan(x)\n",
    "\n",
    "a=np.linspace(1,3,10)\n",
    "print(a,a.shape)\n",
    "#np.linspace() is a operation in python numpy which returns evenly spaced numbers over a specified interval"
   ]
  },
  {
   "cell_type": "code",
   "execution_count": 13,
   "metadata": {},
   "outputs": [
    {
     "name": "stdout",
     "output_type": "stream",
     "text": [
      "[[ 1  2  3]\n",
      " [ 3  4  5]\n",
      " [ 8  9  7]\n",
      " [11 12 13]]\n",
      "[[ 1  2  3  8  9  7]\n",
      " [ 3  4  5 11 12 13]]\n",
      "[[[ 1  2  3]\n",
      "  [ 3  4  5]]\n",
      "\n",
      " [[ 8  9  7]\n",
      "  [11 12 13]]]\n",
      "[[[ 1  2  3]\n",
      "  [ 8  9  7]]\n",
      "\n",
      " [[ 3  4  5]\n",
      "  [11 12 13]]]\n"
     ]
    }
   ],
   "source": [
    "#Vertical & Horizontal Stacking\n",
    "x= np.array([(1,2,3),(3,4,5)])\n",
    "y= np.array([(8,9,7),(11,12,13)])\n",
    "print(np.vstack((x,y)))\n",
    "print(np.hstack((x,y)))\n",
    "print(np.stack((x,y),axis=0))\n",
    "print(np.stack((x,y),axis=1))\n",
    "#to concatenate two arrays and not just add them, you can perform it using two ways -\n",
    "#vertical stacking and horizontal stacking"
   ]
  },
  {
   "cell_type": "code",
   "execution_count": 14,
   "metadata": {},
   "outputs": [
    {
     "name": "stdout",
     "output_type": "stream",
     "text": [
      "[1 2 3 3 4 5] (6,)\n"
     ]
    }
   ],
   "source": [
    "x= np.array([(1,2,3),(3,4,5)])\n",
    "print(x.ravel(),x.ravel().shape)\n",
    "#x.ravel() is used to convert one numpy array into a single column i.e ravel.\n",
    "#it returns a rank 1 array .Be careful\n",
    "#this function works fine for rank 1 array as well"
   ]
  },
  {
   "cell_type": "code",
   "execution_count": 15,
   "metadata": {},
   "outputs": [
    {
     "name": "stdout",
     "output_type": "stream",
     "text": [
      "[ 4  7 10 13 16 19]\n",
      "[0 1 2 3 4]\n",
      "(6,)\n",
      "[[ 4  7 10 13 16 19]] (1, 6)\n"
     ]
    }
   ],
   "source": [
    "d=np.arange(4, 20, 3)\n",
    "print(d)\n",
    "#np.arange([start,] stop[, step,][, dtype]) : Returns an array with evenly spaced elements as per the interval.\n",
    "#start:start of interval range. By default start = 0\n",
    "#stop:end of interval range(NOTE THAT STOP VALUE IS NOT INCLUDED IN THE ARRAY BUT START VALUE IS)\n",
    "#step:step size of interval. By default step size = 1,  \n",
    "#dtype : type of output array\n",
    "\n",
    "print(np.arange(5)) #from 0 to 4 elements\n",
    "\n",
    "#similar to linespace but the only difference is that in linespace we provide no of elements that the array should \n",
    "#have and both start and stop value is included unlike inarange in which resulted array doesn't have stop value\n",
    "print(d.shape)\n",
    "#np.arange() returns a rank 1 array\n",
    "d=d.reshape((1,6))\n",
    "print(d,d.shape)"
   ]
  },
  {
   "cell_type": "code",
   "execution_count": 16,
   "metadata": {},
   "outputs": [
    {
     "name": "stdout",
     "output_type": "stream",
     "text": [
      "[[1 4]\n",
      " [2 5]\n",
      " [3 6]]\n",
      "   0  1\n",
      "0  1  4\n",
      "1  2  5\n",
      "2  3  6\n"
     ]
    }
   ],
   "source": [
    "import numpy as np\n",
    "import pandas as pd\n",
    "a=[1,2,3]\n",
    "b=[4,5,6]\n",
    "c=np.c_[a,b] #note  that np.c_ is not a callable function. square brackets are used\n",
    "print(c)\n",
    "print(pd.DataFrame(c))"
   ]
  },
  {
   "cell_type": "markdown",
   "metadata": {},
   "source": [
    "# Numpy Random Module \n",
    "<ul><li>\n",
    "rand : Random values in a given shape.</li><li>\n",
    "randn : Return a sample (or samples) from the “standard normal” distribution.</li><li>\n",
    "randint : Return random integers from low (inclusive) to high (exclusive).</li><li>\n",
    "random : Return random floats in the half-open interval [0.0, 1.0)</li><li>\n",
    "choice : Generates a random sample from a given 1-D array</li><li>\n",
    "Shuffle : Shuffles the contents of a sequence</ul>"
   ]
  },
  {
   "cell_type": "code",
   "execution_count": 17,
   "metadata": {},
   "outputs": [
    {
     "name": "stdout",
     "output_type": "stream",
     "text": [
      "[ 5  6  7  8  9 10 11 12 13 14]\n",
      "[ 7 14 11  9  5  8  6 12 13 10]\n",
      "[[ 1.5827523  -1.04514683  0.25759352]\n",
      " [-1.9593946  -1.50780766 -0.31529207]]\n",
      "[7 9 6]\n",
      "4\n"
     ]
    }
   ],
   "source": [
    "a = np.arange(10) + 5\n",
    "print(a)\n",
    "\n",
    "np.random.seed(1)\n",
    "np.random.shuffle(a)\n",
    "print(a)\n",
    "\n",
    "#Returns values from a Standard Normal Distributions\n",
    "a = np.random.randn(2,3)\n",
    "print(a)\n",
    "\n",
    "a = np.random.randint(5,10,3)\n",
    "print(a)\n",
    "\n",
    "#Randoly pick one element from a array\n",
    "element = np.random.choice([1,4,3,2,11,27])\n",
    "print(element)\n"
   ]
  }
 ],
 "metadata": {
  "kernelspec": {
   "display_name": "Python 3",
   "language": "python",
   "name": "python3"
  },
  "language_info": {
   "codemirror_mode": {
    "name": "ipython",
    "version": 3
   },
   "file_extension": ".py",
   "mimetype": "text/x-python",
   "name": "python",
   "nbconvert_exporter": "python",
   "pygments_lexer": "ipython3",
   "version": "3.7.6"
  }
 },
 "nbformat": 4,
 "nbformat_minor": 2
}
