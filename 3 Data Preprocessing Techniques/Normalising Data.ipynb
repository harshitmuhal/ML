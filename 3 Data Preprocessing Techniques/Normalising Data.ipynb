{
 "cells": [
  {
   "cell_type": "markdown",
   "metadata": {},
   "source": [
    "# Normalisation\n",
    "- zero mean and unit variance."
   ]
  },
  {
   "cell_type": "code",
   "execution_count": 5,
   "metadata": {},
   "outputs": [],
   "source": [
    "import pandas as pd\n",
    "import matplotlib.pyplot as plt \n",
    "import numpy as np\n",
    "\n",
    "plt.style.use('seaborn')"
   ]
  },
  {
   "cell_type": "code",
   "execution_count": 7,
   "metadata": {},
   "outputs": [],
   "source": [
    "dfx = pd.read_csv('Datasets/Linear Regression/linearX.csv')\n",
    "dfy = pd.read_csv('Datasets/Linear Regression/linearY.csv')\n",
    "\n",
    "x = dfx.values\n",
    "y = dfy.values"
   ]
  },
  {
   "cell_type": "code",
   "execution_count": 8,
   "metadata": {},
   "outputs": [
    {
     "data": {
      "image/png": "[encoded data removed]",
      "text/plain": [
       "<Figure size 576x396 with 1 Axes>"
      ]
     },
     "metadata": {},
     "output_type": "display_data"
    }
   ],
   "source": [
    "#Normalise \n",
    "x2 = (x-x.mean())/x.std()\n",
    "\n",
    "plt.scatter(x,y,label=\"Raw Data\")\n",
    "plt.scatter(x2,y,color='orange',label=\"Normalised Data\")\n",
    "plt.legend()\n",
    "plt.show()"
   ]
  },
  {
   "cell_type": "markdown",
   "metadata": {},
   "source": [
    "# Normalising data with more than 1 features-\n",
    "\n",
    "<ul>\n",
    "    <li>Every Feature is normalised/standardised individually.</li>\n",
    "    <li>Both Training and Testing data should be normalised by same mean and standard Dev.\n",
    "    </ul>"
   ]
  },
  {
   "cell_type": "code",
   "execution_count": 29,
   "metadata": {},
   "outputs": [
    {
     "name": "stdout",
     "output_type": "stream",
     "text": [
      "(506, 13) (13,) (13,)\n"
     ]
    }
   ],
   "source": [
    "from sklearn.datasets import load_boston\n",
    "boston = load_boston()\n",
    "X = boston.data\n",
    "y = boston.target\n",
    "# Each feature must have 0 mean, unit variance\n",
    "import numpy as np\n",
    "u = np.mean(X,axis=0)\n",
    "std = np.std(X,axis=0)\n",
    "print(X.shape,u.shape,std.shape)\n",
    "X = (X-u)/std  # broadcasting "
   ]
  },
  {
   "cell_type": "markdown",
   "metadata": {},
   "source": [
    "# using sklearn to normalise"
   ]
  },
  {
   "cell_type": "code",
   "execution_count": 21,
   "metadata": {},
   "outputs": [],
   "source": [
    "from sklearn import preprocessing\n",
    "import numpy as np"
   ]
  },
  {
   "cell_type": "markdown",
   "metadata": {},
   "source": [
    "### when testing and training data are combined and splitting of dataset have not been performed yet"
   ]
  },
  {
   "cell_type": "code",
   "execution_count": 23,
   "metadata": {},
   "outputs": [
    {
     "name": "stdout",
     "output_type": "stream",
     "text": [
      "Data has total examples= 3 and no of features= 3\n",
      "\n",
      "[[ 0.         -1.22474487  1.33630621]\n",
      " [ 1.22474487  0.         -0.26726124]\n",
      " [-1.22474487  1.22474487 -1.06904497]]\n"
     ]
    }
   ],
   "source": [
    "X = np.array([[ 1., -1.,  2.],[ 2.,  0.,  0.],[ 0.,  1., -1.]])\n",
    "print('Data has total examples= {} and no of features= {}\\n'.format(X.shape[0],X.shape[1]))\n",
    "X_scaled = preprocessing.scale(X)\n",
    "print(X_scaled)"
   ]
  },
  {
   "cell_type": "markdown",
   "metadata": {},
   "source": [
    "### when testing and training data are present seperately\n",
    "The preprocessing module further provides a utility class StandardScaler that compute the mean and standard deviation on a training set so as to be able to later reapply the same transformation on the testing set. "
   ]
  },
  {
   "cell_type": "code",
   "execution_count": 20,
   "metadata": {},
   "outputs": [
    {
     "name": "stdout",
     "output_type": "stream",
     "text": [
      "Mean\n",
      "\n",
      " [1.         0.         0.33333333] \n",
      "\n",
      "Scale\n",
      "\n",
      " [0.81649658 0.81649658 1.24721913] \n",
      "\n",
      "X_train Normalised\n",
      "\n",
      " [[ 1. -1.  2.]\n",
      " [ 2.  0.  0.]\n",
      " [ 0.  1. -1.]] \n",
      "\n",
      "X_test Normalised\n",
      "\n",
      " [[-1.0, 1.0, 0.0]] \n",
      "\n"
     ]
    }
   ],
   "source": [
    "X_train = np.array([[ 1., -1.,  2.],[ 2.,  0.,  0.],[ 0.,  1., -1.]])\n",
    "scaler = preprocessing.StandardScaler().fit(X_train)\n",
    "print(\"Mean\\n\\n\",scaler.mean_,'\\n')\n",
    "print(\"Scale\\n\\n\",scaler.scale_,'\\n')\n",
    "scaler.transform(X_train)\n",
    "# scaler instance can then be used on new data to transform it the same way it did on the \n",
    "# training set:\n",
    "X_test = [[-1., 1., 0.]]\n",
    "scaler.transform(X_test)\n",
    "print('X_train Normalised\\n\\n',X_train,'\\n')\n",
    "print('X_test Normalised\\n\\n',X_test,'\\n')"
   ]
  }
 ],
 "metadata": {
  "kernelspec": {
   "display_name": "Python 3",
   "language": "python",
   "name": "python3"
  },
  "language_info": {
   "codemirror_mode": {
    "name": "ipython",
    "version": 3
   },
   "file_extension": ".py",
   "mimetype": "text/x-python",
   "name": "python",
   "nbconvert_exporter": "python",
   "pygments_lexer": "ipython3",
   "version": "3.7.6"
  }
 },
 "nbformat": 4,
 "nbformat_minor": 2
}
