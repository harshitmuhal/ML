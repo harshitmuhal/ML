{
 "cells": [
  {
   "cell_type": "code",
   "execution_count": 55,
   "metadata": {},
   "outputs": [],
   "source": [
    "import numpy as np\n",
    "from nltk.corpus import stopwords\n",
    "from nltk.tokenize import RegexpTokenizer\n",
    "from nltk.stem import WordNetLemmatizer"
   ]
  },
  {
   "cell_type": "code",
   "execution_count": 56,
   "metadata": {},
   "outputs": [],
   "source": [
    "tk=RegexpTokenizer(r'\\w+')\n",
    "sw=set(stopwords.words('english'))\n",
    "lm=WordNetLemmatizer()"
   ]
  },
  {
   "cell_type": "code",
   "execution_count": 57,
   "metadata": {},
   "outputs": [],
   "source": [
    "def clean_it(data):\n",
    "    #tokenize\n",
    "    review=data\n",
    "    data=data.lower()\n",
    "    data=data.replace(\"<br /><br />\",\" \")\n",
    "    l=tk.tokenize(data)\n",
    "    #stopword removal\n",
    "    l=[i for i in l if i not in sw]\n",
    "    #lemmatizing\n",
    "    l=[lm.lemmatize(i) for i in l]\n",
    "    l=' '.join(l)\n",
    "    return l"
   ]
  },
  {
   "cell_type": "code",
   "execution_count": 58,
   "metadata": {},
   "outputs": [],
   "source": [
    "txt='''not really sure what to make of this movie. very weird, very artsy. not the kind of movie you watch because it has a compelling plot or characters. more like the kind of movie that you can't stop watching because of the horrifically fascinating things happening on screen. although, the first time my wife watched this she couldn't make it all the way through... too disturbing for her. runs a bit long, but nonetheless a worthwhile viewing for those interested in very dark movies.\n",
    "If you enjoyed films like Pulp Fiction, Reservoir Dogs, and Lock, Stock, and Two Smoking Barrels, you are going to LOVE Two Hands. It has the same type of black humor beat to it and will keep you entertained through the whole film. Like Pulp Fiction, it has the wacky scenarios that the characters get into and how they deal with them. Along with Gallipoli and Picnic at Hanging Rock, this has to be one of the best Australian films I've seen. It also stars a young Heath Ledger before he got real big in the states.<br /><br />This is a terribly underrated movie that I believe is just as good as Pulp Fiction and those greats. You have to see it!'''"
   ]
  },
  {
   "cell_type": "code",
   "execution_count": 59,
   "metadata": {},
   "outputs": [],
   "source": [
    "# print(clean_it(txt))"
   ]
  },
  {
   "cell_type": "code",
   "execution_count": 60,
   "metadata": {},
   "outputs": [],
   "source": [
    "def cleandocument(inputFile,outputFile):\n",
    "    out = open(outputFile,'w')\n",
    "    with open(inputFile,'r') as f:\n",
    "        reviews = f.readlines()\n",
    "    for review in reviews:\n",
    "        cleaned_review = clean_it(review)\n",
    "        print((cleaned_review),file=out)\n",
    "    out.close()"
   ]
  },
  {
   "cell_type": "code",
   "execution_count": 63,
   "metadata": {},
   "outputs": [],
   "source": [
    "cleandocument('Datasets/IMDB/imdb_trainX.txt','Datasets/IMDB/imdb_trainX_cleaned.txt')"
   ]
  },
  {
   "cell_type": "code",
   "execution_count": null,
   "metadata": {},
   "outputs": [],
   "source": []
  }
 ],
 "metadata": {
  "kernelspec": {
   "display_name": "Python 3",
   "language": "python",
   "name": "python3"
  },
  "language_info": {
   "codemirror_mode": {
    "name": "ipython",
    "version": 3
   },
   "file_extension": ".py",
   "mimetype": "text/x-python",
   "name": "python",
   "nbconvert_exporter": "python",
   "pygments_lexer": "ipython3",
   "version": "3.7.6"
  }
 },
 "nbformat": 4,
 "nbformat_minor": 4
}
