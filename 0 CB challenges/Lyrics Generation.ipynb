{
 "cells": [
  {
   "cell_type": "code",
   "execution_count": 58,
   "metadata": {},
   "outputs": [],
   "source": [
    "import numpy as np\n",
    "np.random.seed(11)"
   ]
  },
  {
   "cell_type": "code",
   "execution_count": 59,
   "metadata": {},
   "outputs": [],
   "source": [
    "text=\"\"\n",
    "with open('../Datasets/Apna Time Aayega.txt',encoding='utf8') as f:\n",
    "    text=f.read().lower()"
   ]
  },
  {
   "cell_type": "code",
   "execution_count": 60,
   "metadata": {},
   "outputs": [],
   "source": [
    "def generateTable(data,k=4): #we will look at 4 characters(x) only    \n",
    "    T = {}\n",
    "    for i in range(len(data)-k):\n",
    "        X = data[i:i+k]\n",
    "        Y = data[i+k]\n",
    "        if T.get(X) is None:\n",
    "            T[X] = {}\n",
    "            T[X][Y] = 1\n",
    "        else:\n",
    "            if T[X].get(Y) is None:\n",
    "                T[X][Y] = 1\n",
    "            else:\n",
    "                T[X][Y] += 1\n",
    "    return T    \n",
    "def convertFreqIntoProb(T):     \n",
    "    for kx in T.keys():\n",
    "        s = float(sum(T[kx].values()))\n",
    "        for k in T[kx].keys():\n",
    "            T[kx][k] = T[kx][k]/s    \n",
    "    return T\n",
    "def trainMarkovChain(text,k=4):\n",
    "    T = generateTable(text,k)\n",
    "    T = convertFreqIntoProb(T)\n",
    "    return T"
   ]
  },
  {
   "cell_type": "code",
   "execution_count": 61,
   "metadata": {},
   "outputs": [],
   "source": [
    "def sample_next(ctx,T,k):\n",
    "    ctx = ctx[-k:]\n",
    "    if T.get(ctx) is None:\n",
    "        return \" \"\n",
    "    possible_Chars = list(T[ctx].keys())\n",
    "    possible_values = list(T[ctx].values())\n",
    "    return np.random.choice(possible_Chars,p=possible_values)\n",
    "def generateText(starting_sent,T,k=4,maxLen=1000):\n",
    "    sentence = starting_sent\n",
    "    ctx = starting_sent[-k:]\n",
    "    for ix in range(maxLen):\n",
    "        next_prediction = sample_next(ctx,T,k)\n",
    "        sentence += next_prediction\n",
    "        ctx = sentence[-k:]\n",
    "    return sentence"
   ]
  },
  {
   "cell_type": "code",
   "execution_count": 62,
   "metadata": {},
   "outputs": [],
   "source": [
    "T=trainMarkovChain(text,4)"
   ]
  },
  {
   "cell_type": "code",
   "execution_count": 63,
   "metadata": {},
   "outputs": [],
   "source": [
    "new_text=generateText(\"apna\",T,4,2000)"
   ]
  },
  {
   "cell_type": "code",
   "execution_count": 64,
   "metadata": {},
   "outputs": [
    {
     "name": "stdout",
     "output_type": "stream",
     "text": [
      "apna time aaya hath nahi\n",
      "utna hi to aaya hai seene se\n",
      "matlab bana lala\n",
      "mere bhai tu\n",
      "utna time aaya hai\n",
      "phir bhi satayega\n",
      "zinda mera khud ki hai, amaana lala\n",
      "tujhe na mila paseene se jeenenge\n",
      "sab kuchh mil payega\n",
      "jitni rehmat mein\n",
      "har raakh se\n",
      "tu nanga hi to khauf nahin hai jaisa koyi hai seene mein nahi hai\n",
      "kyon ki ab laalach nai hai\n",
      "kya ghanta lekar jaayega\n",
      "kya tu dafnayega\n",
      "apna time aayega\n",
      "kya tu ghanta lekar\n",
      " \n",
      "kissi ka jwala\n",
      "meri bediyan par\n",
      "yahaana ab laalach nai hai\n",
      "kyon ka hath nahin hai\n",
      "jo darr ko bhi sar uthayega\n",
      "jitna time aayega\n",
      "apna time aayega\n",
      "apna time aaya hairat ki, aafat ki hai chahat ki, ibaadat ki\n",
      "mohobbat ki hai\n",
      "kya tu ghanta lekar\n",
      " \n",
      "kyon ki apni raakh se\n",
      "tu nanga hi to aayega\n",
      " \n",
      "tu nanga hi tha sar uthayega\n",
      "apna time aayega\n",
      " \n",
      "ab kaise tu ghanta lekar jaayega\n",
      " \n",
      "tu nanga hi tha sar uthayega\n",
      "apna time aayega\n",
      "kya ghanta lekar jaayega\n",
      "jitni raaste ko bhi sar uthayega\n",
      "zinda mera khwaab\n",
      "ab kuchh mila paseenenge\n",
      "sab khaayega \n",
      " \n",
      "tu udd ja ab talaash mein\n",
      "har raaste ko cheerenge\n",
      "sab kaise tu ghanta lekar jaayega\n",
      "mere bhai chahat ki\n",
      "adalat yahaanat se jeene mein nahi to aayega\n",
      "apna time aayega\n",
      "zinda mera khwaab hai\n",
      "kya ghanta lekar\n",
      " \n",
      "kyon ki hai, aafat ki hai\n",
      "zaroorat ki\n",
      "mohobbat ki, aafat ki hai jaisa shaanat ki\n",
      "aur jurrat yahaan marzi ki\n",
      "adalat yeh shabdon ki ab aadat ki apna time aaya khwaab\n",
      "ab kaise tu ghanta lekar jaayega\n",
      "uth ja ab jeene mein hai\n",
      "phir bhi sar uthayega\n",
      " \n",
      "taakat ki\n",
      "himaakat ki mehnat se main\n",
      "jitna time aayega\n",
      "apna time aayega\n",
      "apna time aaya hai\n",
      " \n",
      "iss hard’ch nai hai\n",
      "kyon\n",
      "kyon\n",
      "kyon\n",
      "kyon ki mehnat se main\n",
      "jitna time aayega\n",
      "apna toone boya hai\n",
      "kyon ka jwala\n",
      "mere jaisa shaan pighlayega\n",
      "zinda mera khud ki ab talaash mein\n",
      "parwaaz dekh par\n",
      "yahaan pighlayega\n",
      "apna time aayega\n",
      " \n",
      "ab kuchh mil payega\n",
      "aisa mera khwaab\n",
      "ab kuchh mila paseene mein hai\n",
      "shohrat ki ab aadat ki\n",
      "adalat yahaana ab aadat ki\n",
      "mohobbat ki apna time aayega\n",
      "zinda mera khwaab hausle se main\n",
      "jitni taakat ne hi tha sar uthayega\n",
      "meri bediyan pighlayega\n",
      " \n",
      "tu nanga hi to aaya hai\n",
      "phir bhi lad\n"
     ]
    }
   ],
   "source": [
    "print(new_text)"
   ]
  },
  {
   "cell_type": "code",
   "execution_count": 65,
   "metadata": {},
   "outputs": [],
   "source": [
    "f=open('apna_time_lyrics.txt','w')"
   ]
  },
  {
   "cell_type": "code",
   "execution_count": 66,
   "metadata": {},
   "outputs": [],
   "source": [
    "f.write(new_text)\n",
    "f.close()"
   ]
  },
  {
   "cell_type": "code",
   "execution_count": null,
   "metadata": {},
   "outputs": [],
   "source": []
  },
  {
   "cell_type": "code",
   "execution_count": null,
   "metadata": {},
   "outputs": [],
   "source": []
  },
  {
   "cell_type": "code",
   "execution_count": null,
   "metadata": {},
   "outputs": [],
   "source": []
  }
 ],
 "metadata": {
  "kernelspec": {
   "display_name": "Python 3",
   "language": "python",
   "name": "python3"
  },
  "language_info": {
   "codemirror_mode": {
    "name": "ipython",
    "version": 3
   },
   "file_extension": ".py",
   "mimetype": "text/x-python",
   "name": "python",
   "nbconvert_exporter": "python",
   "pygments_lexer": "ipython3",
   "version": "3.7.6"
  }
 },
 "nbformat": 4,
 "nbformat_minor": 4
}
