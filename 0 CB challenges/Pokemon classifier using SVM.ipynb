{
 "cells": [
  {
   "cell_type": "code",
   "execution_count": 95,
   "metadata": {},
   "outputs": [],
   "source": [
    "import numpy as np\n",
    "import matplotlib.pyplot as plt\n",
    "import pandas as pd \n",
    "from pathlib import Path\n",
    "from keras.preprocessing import image\n",
    "import cv2\n",
    "\n",
    "plt.style.use('seaborn')"
   ]
  },
  {
   "cell_type": "code",
   "execution_count": 96,
   "metadata": {},
   "outputs": [
    {
     "name": "stdout",
     "output_type": "stream",
     "text": [
      "['296.jpg' '297.jpg' '298.jpg']\n"
     ]
    },
    {
     "name": "stderr",
     "output_type": "stream",
     "text": [
      "/Users/harshit/opt/anaconda3/lib/python3.7/site-packages/PIL/Image.py:932: UserWarning: Palette images with Transparency expressed in bytes should be converted to RGBA images\n",
      "  \"Palette images with Transparency expressed in bytes should be \"\n"
     ]
    }
   ],
   "source": [
    "xtrain=[]\n",
    "y=pd.read_csv('Datasets/pokemon/Train/train.csv').values\n",
    "ytrain=y[:,-1]\n",
    "image_ids=y[:,0]\n",
    "\n",
    "print(image_ids[:3])\n",
    "\n",
    "for i in image_ids:\n",
    "    img=image.load_img('Datasets/pokemon/Train/Images/'+i,target_size=(32,32))\n",
    "    img=image.img_to_array(img)\n",
    "    xtrain.append(img)"
   ]
  },
  {
   "cell_type": "code",
   "execution_count": 97,
   "metadata": {},
   "outputs": [
    {
     "name": "stdout",
     "output_type": "stream",
     "text": [
      "(304, 32, 32, 3) (304,)\n",
      "(304, 3072) (304,)\n"
     ]
    }
   ],
   "source": [
    "xtrain=np.array(xtrain,dtype='float32')/255\n",
    "print(xtrain.shape,ytrain.shape)\n",
    "xtrain=xtrain.reshape((xtrain.shape[0],-1))\n",
    "ytrain=np.array(ytrain)\n",
    "print(xtrain.shape,ytrain.shape)\n",
    "\n",
    "# ytrain[ytrain=='Pikachu']=0\n",
    "# ytrain[ytrain=='Charmander']=1\n",
    "# ytrain[ytrain=='Bulbasaur']=2"
   ]
  },
  {
   "cell_type": "code",
   "execution_count": 98,
   "metadata": {},
   "outputs": [],
   "source": [
    "import random\n",
    "combined=list(zip(xtrain,ytrain))\n",
    "random.shuffle(combined)\n",
    "xtrain,ytrain=zip(*combined)"
   ]
  },
  {
   "cell_type": "markdown",
   "metadata": {},
   "source": [
    "### Grid Search"
   ]
  },
  {
   "cell_type": "code",
   "execution_count": 99,
   "metadata": {},
   "outputs": [
    {
     "name": "stdout",
     "output_type": "stream",
     "text": [
      "4\n"
     ]
    }
   ],
   "source": [
    "import multiprocessing\n",
    "cpus=multiprocessing.cpu_count()\n",
    "print(cpus)"
   ]
  },
  {
   "cell_type": "code",
   "execution_count": 100,
   "metadata": {},
   "outputs": [],
   "source": [
    "params=[\n",
    "    {\n",
    "        'kernel':['linear','rbf','poly','sigmoid'],\n",
    "        'C':[0.1,0.2,0.5,0.8,1.0,1.2,1.5,2.0,5.0]\n",
    "    }\n",
    "]\n",
    "#c is the penalty constant"
   ]
  },
  {
   "cell_type": "code",
   "execution_count": 101,
   "metadata": {},
   "outputs": [],
   "source": [
    "from sklearn.model_selection import GridSearchCV\n",
    "from sklearn import svm\n",
    "gs = GridSearchCV(estimator=svm.SVC(),param_grid=params,scoring=\"accuracy\",cv=5,n_jobs = cpus)\n",
    "#to speed up process no of cpus can be given as a parameter for parallel running"
   ]
  },
  {
   "cell_type": "code",
   "execution_count": 102,
   "metadata": {},
   "outputs": [
    {
     "data": {
      "text/plain": [
       "GridSearchCV(cv=5, error_score=nan,\n",
       "             estimator=SVC(C=1.0, break_ties=False, cache_size=200,\n",
       "                           class_weight=None, coef0=0.0,\n",
       "                           decision_function_shape='ovr', degree=3,\n",
       "                           gamma='scale', kernel='rbf', max_iter=-1,\n",
       "                           probability=False, random_state=None, shrinking=True,\n",
       "                           tol=0.001, verbose=False),\n",
       "             iid='deprecated', n_jobs=4,\n",
       "             param_grid=[{'C': [0.1, 0.2, 0.5, 0.8, 1.0, 1.2, 1.5, 2.0, 5.0],\n",
       "                          'kernel': ['linear', 'rbf', 'poly', 'sigmoid']}],\n",
       "             pre_dispatch='2*n_jobs', refit=True, return_train_score=False,\n",
       "             scoring='accuracy', verbose=0)"
      ]
     },
     "execution_count": 102,
     "metadata": {},
     "output_type": "execute_result"
    }
   ],
   "source": [
    "gs.fit(xtrain,ytrain)"
   ]
  },
  {
   "cell_type": "code",
   "execution_count": 103,
   "metadata": {},
   "outputs": [
    {
     "name": "stdout",
     "output_type": "stream",
     "text": [
      "SVC(C=1.5, break_ties=False, cache_size=200, class_weight=None, coef0=0.0,\n",
      "    decision_function_shape='ovr', degree=3, gamma='scale', kernel='rbf',\n",
      "    max_iter=-1, probability=False, random_state=None, shrinking=True,\n",
      "    tol=0.001, verbose=False) 0.8944808743169398\n"
     ]
    }
   ],
   "source": [
    "print(gs.best_estimator_,gs.best_score_)"
   ]
  },
  {
   "cell_type": "code",
   "execution_count": 104,
   "metadata": {},
   "outputs": [],
   "source": [
    "classifier=gs.best_estimator_"
   ]
  },
  {
   "cell_type": "markdown",
   "metadata": {},
   "source": [
    "### Testing on test data"
   ]
  },
  {
   "cell_type": "code",
   "execution_count": 143,
   "metadata": {},
   "outputs": [],
   "source": [
    "test = pd.read_csv('Datasets/pokemon/Test/test.csv')\n",
    "xtest=[]\n",
    "test_image_ids = np.array(test).reshape(-1,)\n",
    "for i in test_image_ids:\n",
    "    img=image.load_img('Datasets/pokemon/Test/Images/'+i,target_size=(32,32))\n",
    "    img=image.img_to_array(img)\n",
    "    xtest.append(img)"
   ]
  },
  {
   "cell_type": "code",
   "execution_count": 144,
   "metadata": {},
   "outputs": [
    {
     "name": "stdout",
     "output_type": "stream",
     "text": [
      "(123, 3072)\n",
      "(123, 1)\n"
     ]
    }
   ],
   "source": [
    "xtest=np.array(xtest,dtype='float32')/255\n",
    "xtest=xtest.reshape((xtest.shape[0],-1))\n",
    "print(xtest.shape)\n",
    "\n",
    "test_image_id=np.array(test_image_id)\n",
    "print(test_image_id.shape)"
   ]
  },
  {
   "cell_type": "code",
   "execution_count": 145,
   "metadata": {},
   "outputs": [],
   "source": [
    "predictions=gs.predict(xtest)"
   ]
  },
  {
   "cell_type": "code",
   "execution_count": 146,
   "metadata": {},
   "outputs": [
    {
     "name": "stdout",
     "output_type": "stream",
     "text": [
      "(123,) ['Bulbasaur' 'Charmander' 'Bulbasaur' 'Charmander' 'Pikachu' 'Charmander'\n",
      " 'Pikachu' 'Bulbasaur' 'Bulbasaur' 'Charmander' 'Bulbasaur' 'Bulbasaur'\n",
      " 'Bulbasaur' 'Bulbasaur' 'Charmander' 'Bulbasaur' 'Charmander'\n",
      " 'Charmander' 'Pikachu' 'Charmander' 'Pikachu' 'Bulbasaur' 'Charmander'\n",
      " 'Bulbasaur' 'Charmander' 'Charmander' 'Bulbasaur' 'Bulbasaur' 'Pikachu'\n",
      " 'Pikachu' 'Pikachu' 'Pikachu' 'Charmander' 'Bulbasaur' 'Pikachu'\n",
      " 'Bulbasaur' 'Bulbasaur' 'Bulbasaur' 'Charmander' 'Bulbasaur' 'Bulbasaur'\n",
      " 'Charmander' 'Pikachu' 'Charmander' 'Charmander' 'Bulbasaur' 'Charmander'\n",
      " 'Bulbasaur' 'Charmander' 'Charmander' 'Pikachu' 'Charmander' 'Pikachu'\n",
      " 'Bulbasaur' 'Charmander' 'Bulbasaur' 'Charmander' 'Pikachu' 'Pikachu'\n",
      " 'Charmander' 'Charmander' 'Pikachu' 'Charmander' 'Charmander' 'Pikachu'\n",
      " 'Pikachu' 'Bulbasaur' 'Pikachu' 'Pikachu' 'Bulbasaur' 'Charmander'\n",
      " 'Bulbasaur' 'Bulbasaur' 'Pikachu' 'Charmander' 'Charmander' 'Charmander'\n",
      " 'Charmander' 'Pikachu' 'Bulbasaur' 'Pikachu' 'Bulbasaur' 'Charmander'\n",
      " 'Bulbasaur' 'Pikachu' 'Bulbasaur' 'Bulbasaur' 'Charmander' 'Charmander'\n",
      " 'Bulbasaur' 'Bulbasaur' 'Charmander' 'Bulbasaur' 'Pikachu' 'Pikachu'\n",
      " 'Charmander' 'Pikachu' 'Bulbasaur' 'Pikachu' 'Charmander' 'Bulbasaur'\n",
      " 'Bulbasaur' 'Bulbasaur' 'Pikachu' 'Charmander' 'Bulbasaur' 'Pikachu'\n",
      " 'Pikachu' 'Charmander' 'Bulbasaur' 'Pikachu' 'Charmander' 'Pikachu'\n",
      " 'Charmander' 'Charmander' 'Pikachu' 'Pikachu' 'Pikachu' 'Bulbasaur'\n",
      " 'Pikachu' 'Charmander' 'Bulbasaur' 'Pikachu']\n"
     ]
    }
   ],
   "source": [
    "print(predictions.shape,predictions)"
   ]
  },
  {
   "cell_type": "code",
   "execution_count": 147,
   "metadata": {},
   "outputs": [],
   "source": [
    "mydict = {}\n",
    "mydict['ImageId']=test_image_ids\n",
    "mydict['NameOfPokemon']=predictions"
   ]
  },
  {
   "cell_type": "code",
   "execution_count": 151,
   "metadata": {},
   "outputs": [],
   "source": [
    "df=pd.DataFrame(mydict)\n",
    "# print(df.values)"
   ]
  },
  {
   "cell_type": "code",
   "execution_count": 152,
   "metadata": {},
   "outputs": [],
   "source": [
    "df.to_csv('Pokemon_challenge_sol.csv',index=False)"
   ]
  },
  {
   "cell_type": "code",
   "execution_count": null,
   "metadata": {},
   "outputs": [],
   "source": []
  }
 ],
 "metadata": {
  "kernelspec": {
   "display_name": "Python 3",
   "language": "python",
   "name": "python3"
  },
  "language_info": {
   "codemirror_mode": {
    "name": "ipython",
    "version": 3
   },
   "file_extension": ".py",
   "mimetype": "text/x-python",
   "name": "python",
   "nbconvert_exporter": "python",
   "pygments_lexer": "ipython3",
   "version": "3.7.6"
  }
 },
 "nbformat": 4,
 "nbformat_minor": 4
}
