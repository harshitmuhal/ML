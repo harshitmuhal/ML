{
 "cells": [
  {
   "cell_type": "code",
   "execution_count": 108,
   "metadata": {},
   "outputs": [],
   "source": [
    "from keras.models import Sequential\n",
    "from keras.layers import *\n",
    "from keras.utils import np_utils\n",
    "import pandas as pd\n",
    "import numpy as np\n",
    "from keras.callbacks import EarlyStopping , ModelCheckpoint\n",
    "from keras.models import load_model\n",
    "import matplotlib.pyplot as plt"
   ]
  },
  {
   "cell_type": "code",
   "execution_count": 109,
   "metadata": {},
   "outputs": [],
   "source": [
    "  X_train = pd.read_csv(\"../Datasets/Stock price/Train/x_train.csv\").values\n",
    "y_train = pd.read_csv(\"../Datasets/Stock price/Train/y_train.csv\").values"
   ]
  },
  {
   "cell_type": "code",
   "execution_count": 110,
   "metadata": {},
   "outputs": [],
   "source": [
    "# Feature Scaling\n",
    "from sklearn.preprocessing import MinMaxScaler\n",
    "sc = MinMaxScaler(feature_range = (0, 1))\n",
    "X_train = sc.fit_transform(X_train)\n",
    "y_train = sc.transform(y_train)"
   ]
  },
  {
   "cell_type": "code",
   "execution_count": 111,
   "metadata": {},
   "outputs": [],
   "source": [
    "X_train = X_train.reshape((X_train.shape[0],X_train.shape[1],1))"
   ]
  },
  {
   "cell_type": "code",
   "execution_count": 112,
   "metadata": {},
   "outputs": [
    {
     "name": "stdout",
     "output_type": "stream",
     "text": [
      "(1257, 1, 1) (1257, 1)\n"
     ]
    }
   ],
   "source": [
    "print(X_train.shape,y_train.shape)"
   ]
  },
  {
   "cell_type": "code",
   "execution_count": 113,
   "metadata": {},
   "outputs": [
    {
     "name": "stdout",
     "output_type": "stream",
     "text": [
      "(1000, 1, 1)\n",
      "(257, 1, 1)\n",
      "(1000, 1)\n",
      "(257, 1)\n"
     ]
    }
   ],
   "source": [
    "XT = X_train[:1000]\n",
    "YT = y_train[:1000]\n",
    "Xt = X_train[1000:]\n",
    "Yt = y_train[1000:]\n",
    "print(XT.shape)\n",
    "print(Xt.shape)\n",
    "print(YT.shape)\n",
    "print(Yt.shape)"
   ]
  },
  {
   "cell_type": "code",
   "execution_count": 114,
   "metadata": {},
   "outputs": [
    {
     "name": "stdout",
     "output_type": "stream",
     "text": [
      "Model: \"sequential_6\"\n",
      "_________________________________________________________________\n",
      "Layer (type)                 Output Shape              Param #   \n",
      "=================================================================\n",
      "lstm_18 (LSTM)               (None, None, 32)          4352      \n",
      "_________________________________________________________________\n",
      "lstm_19 (LSTM)               (None, None, 32)          8320      \n",
      "_________________________________________________________________\n",
      "lstm_20 (LSTM)               (None, 3)                 432       \n",
      "_________________________________________________________________\n",
      "dense_6 (Dense)              (None, 1)                 4         \n",
      "=================================================================\n",
      "Total params: 13,108\n",
      "Trainable params: 13,108\n",
      "Non-trainable params: 0\n",
      "_________________________________________________________________\n"
     ]
    }
   ],
   "source": [
    "from keras.optimizers import Adam\n",
    "from keras.models import Sequential\n",
    "from keras.layers import Dense\n",
    "from keras.layers import LSTM\n",
    "regressor = Sequential()\n",
    "regressor.add(LSTM(units = 32, return_sequences = True, input_shape = (None, 1)))\n",
    "regressor.add(LSTM(units = 32, return_sequences = True))\n",
    "regressor.add(LSTM(units = 3))\n",
    "regressor.add(Dense(units = 1))\n",
    "regressor.compile(optimizer = Adam(lr=0.07), loss = 'mean_squared_error')\n",
    "regressor.summary()"
   ]
  },
  {
   "cell_type": "code",
   "execution_count": 115,
   "metadata": {
    "scrolled": true
   },
   "outputs": [
    {
     "name": "stdout",
     "output_type": "stream",
     "text": [
      "Epoch 1/50\n",
      "32/32 [==============================] - 2s 50ms/step - loss: 0.0470 - val_loss: 0.0078\n",
      "Epoch 2/50\n",
      "32/32 [==============================] - 0s 7ms/step - loss: 0.0020 - val_loss: 0.0022\n",
      "Epoch 3/50\n",
      "32/32 [==============================] - 0s 7ms/step - loss: 5.9934e-04 - val_loss: 0.0020\n",
      "Epoch 4/50\n",
      "32/32 [==============================] - 0s 6ms/step - loss: 3.9538e-04 - val_loss: 0.0023\n",
      "Epoch 5/50\n",
      "32/32 [==============================] - 0s 6ms/step - loss: 2.7928e-04 - val_loss: 5.4215e-04\n",
      "Epoch 6/50\n",
      "32/32 [==============================] - 0s 6ms/step - loss: 2.1510e-04 - val_loss: 3.5373e-04\n",
      "Epoch 7/50\n",
      "32/32 [==============================] - 0s 7ms/step - loss: 2.0327e-04 - val_loss: 6.4260e-04\n",
      "Epoch 8/50\n",
      "32/32 [==============================] - 0s 7ms/step - loss: 2.1656e-04 - val_loss: 2.6792e-04\n",
      "Epoch 9/50\n",
      "32/32 [==============================] - 0s 6ms/step - loss: 2.4520e-04 - val_loss: 5.3663e-04\n",
      "Epoch 10/50\n",
      "32/32 [==============================] - 0s 7ms/step - loss: 2.0753e-04 - val_loss: 3.4171e-04\n",
      "Epoch 11/50\n",
      "32/32 [==============================] - 0s 7ms/step - loss: 2.2190e-04 - val_loss: 2.7787e-04\n",
      "Epoch 12/50\n",
      "32/32 [==============================] - 0s 7ms/step - loss: 2.0533e-04 - val_loss: 6.3672e-04\n",
      "Epoch 13/50\n",
      "32/32 [==============================] - 0s 7ms/step - loss: 2.2795e-04 - val_loss: 6.8941e-04\n",
      "Epoch 14/50\n",
      "32/32 [==============================] - 0s 6ms/step - loss: 2.5201e-04 - val_loss: 3.1884e-04\n",
      "Epoch 15/50\n",
      "32/32 [==============================] - 0s 6ms/step - loss: 2.1967e-04 - val_loss: 2.8597e-04\n",
      "Epoch 16/50\n",
      "32/32 [==============================] - 0s 6ms/step - loss: 2.2208e-04 - val_loss: 9.9028e-04\n",
      "Epoch 17/50\n",
      "32/32 [==============================] - 0s 8ms/step - loss: 1.9822e-04 - val_loss: 2.7222e-04\n",
      "Epoch 18/50\n",
      "32/32 [==============================] - 0s 6ms/step - loss: 2.3193e-04 - val_loss: 8.0446e-04\n",
      "Epoch 19/50\n",
      "32/32 [==============================] - 0s 7ms/step - loss: 2.3507e-04 - val_loss: 5.0869e-04\n",
      "Epoch 20/50\n",
      "32/32 [==============================] - 0s 7ms/step - loss: 2.3316e-04 - val_loss: 2.9371e-04\n",
      "Epoch 21/50\n",
      "32/32 [==============================] - 0s 6ms/step - loss: 2.5877e-04 - val_loss: 0.0014\n",
      "Epoch 22/50\n",
      "32/32 [==============================] - 0s 10ms/step - loss: 2.5083e-04 - val_loss: 0.0014\n",
      "Epoch 23/50\n",
      "32/32 [==============================] - 0s 7ms/step - loss: 3.4924e-04 - val_loss: 7.8098e-04\n",
      "Epoch 24/50\n",
      "32/32 [==============================] - 0s 6ms/step - loss: 2.3657e-04 - val_loss: 9.2097e-04\n",
      "Epoch 25/50\n",
      "32/32 [==============================] - 0s 6ms/step - loss: 2.9335e-04 - val_loss: 0.0019\n",
      "Epoch 26/50\n",
      "32/32 [==============================] - 0s 6ms/step - loss: 2.7370e-04 - val_loss: 0.0010\n",
      "Epoch 27/50\n",
      "32/32 [==============================] - 0s 6ms/step - loss: 2.5140e-04 - val_loss: 4.8480e-04\n",
      "Epoch 28/50\n",
      "32/32 [==============================] - 0s 6ms/step - loss: 2.2781e-04 - val_loss: 6.8650e-04\n",
      "Epoch 29/50\n",
      "32/32 [==============================] - 0s 6ms/step - loss: 2.5421e-04 - val_loss: 2.5652e-04\n",
      "Epoch 30/50\n",
      "32/32 [==============================] - 0s 6ms/step - loss: 2.1102e-04 - val_loss: 2.6401e-04\n",
      "Epoch 31/50\n",
      "32/32 [==============================] - 0s 6ms/step - loss: 2.7188e-04 - val_loss: 4.6368e-04\n",
      "Epoch 32/50\n",
      "32/32 [==============================] - 0s 6ms/step - loss: 2.3904e-04 - val_loss: 6.8637e-04\n",
      "Epoch 33/50\n",
      "32/32 [==============================] - 0s 6ms/step - loss: 3.0093e-04 - val_loss: 3.9570e-04\n",
      "Epoch 34/50\n",
      "32/32 [==============================] - 0s 8ms/step - loss: 2.5487e-04 - val_loss: 0.0015\n",
      "Epoch 35/50\n",
      "32/32 [==============================] - 0s 15ms/step - loss: 2.8919e-04 - val_loss: 2.9456e-04\n",
      "Epoch 36/50\n",
      "32/32 [==============================] - 0s 8ms/step - loss: 2.7790e-04 - val_loss: 2.6968e-04\n",
      "Epoch 37/50\n",
      "32/32 [==============================] - 0s 7ms/step - loss: 2.3944e-04 - val_loss: 9.4548e-04\n",
      "Epoch 38/50\n",
      "32/32 [==============================] - 0s 7ms/step - loss: 2.4314e-04 - val_loss: 3.0903e-04\n",
      "Epoch 39/50\n",
      "32/32 [==============================] - 0s 9ms/step - loss: 3.0358e-04 - val_loss: 2.9000e-04\n",
      "Epoch 40/50\n",
      "32/32 [==============================] - 0s 9ms/step - loss: 2.9429e-04 - val_loss: 3.2048e-04\n",
      "Epoch 41/50\n",
      "32/32 [==============================] - 0s 7ms/step - loss: 2.6079e-04 - val_loss: 0.0022\n",
      "Epoch 42/50\n",
      "32/32 [==============================] - 0s 6ms/step - loss: 3.1316e-04 - val_loss: 0.0015\n",
      "Epoch 43/50\n",
      "32/32 [==============================] - 0s 6ms/step - loss: 2.6254e-04 - val_loss: 4.6293e-04\n",
      "Epoch 44/50\n",
      "32/32 [==============================] - 0s 7ms/step - loss: 2.4698e-04 - val_loss: 3.1816e-04\n",
      "Epoch 45/50\n",
      "32/32 [==============================] - 0s 8ms/step - loss: 2.3084e-04 - val_loss: 4.1835e-04\n",
      "Epoch 46/50\n",
      "32/32 [==============================] - 0s 8ms/step - loss: 2.3869e-04 - val_loss: 3.1686e-04\n",
      "Epoch 47/50\n",
      "32/32 [==============================] - 0s 7ms/step - loss: 2.4522e-04 - val_loss: 6.6091e-04\n",
      "Epoch 48/50\n",
      "32/32 [==============================] - 0s 6ms/step - loss: 2.5940e-04 - val_loss: 6.0642e-04\n",
      "Epoch 49/50\n",
      "32/32 [==============================] - 0s 6ms/step - loss: 2.9900e-04 - val_loss: 2.8590e-04\n",
      "Epoch 50/50\n",
      "32/32 [==============================] - 0s 6ms/step - loss: 2.4083e-04 - val_loss: 6.1742e-04\n"
     ]
    }
   ],
   "source": [
    "hist = regressor.fit(XT,YT, epochs = 50, batch_size = 32, validation_data=(Xt,Yt))"
   ]
  },
  {
   "cell_type": "code",
   "execution_count": 116,
   "metadata": {},
   "outputs": [
    {
     "data": {
      "image/png": "[encoded data removed]",
      "text/plain": [
       "<Figure size 432x288 with 1 Axes>"
      ]
     },
     "metadata": {
      "needs_background": "light"
     },
     "output_type": "display_data"
    }
   ],
   "source": [
    "plt.plot(hist.history['loss'], label = \"train loss\")\n",
    "plt.plot(hist.history['val_loss'], label =\"val loss\")\n",
    "plt.legend()\n",
    "plt.show()"
   ]
  },
  {
   "cell_type": "code",
   "execution_count": 117,
   "metadata": {},
   "outputs": [],
   "source": [
    "y_pred = regressor.predict(Xt)"
   ]
  },
  {
   "cell_type": "code",
   "execution_count": 118,
   "metadata": {},
   "outputs": [
    {
     "data": {
      "image/png": "[encoded data removed]",
      "text/plain": [
       "<Figure size 432x288 with 1 Axes>"
      ]
     },
     "metadata": {
      "needs_background": "light"
     },
     "output_type": "display_data"
    }
   ],
   "source": [
    "plt.plot(Yt)\n",
    "plt.plot(y_pred)\n",
    "plt.show()"
   ]
  },
  {
   "cell_type": "markdown",
   "metadata": {},
   "source": [
    "## With Test Set"
   ]
  },
  {
   "cell_type": "code",
   "execution_count": 119,
   "metadata": {},
   "outputs": [],
   "source": [
    "X_test = pd.read_csv(\"../Datasets/Stock price/x_test.csv\").values"
   ]
  },
  {
   "cell_type": "code",
   "execution_count": 120,
   "metadata": {},
   "outputs": [],
   "source": [
    "sc1 = MinMaxScaler(feature_range = (0, 1))"
   ]
  },
  {
   "cell_type": "code",
   "execution_count": 121,
   "metadata": {},
   "outputs": [],
   "source": [
    "X_test = sc1.fit_transform(X_test)"
   ]
  },
  {
   "cell_type": "code",
   "execution_count": 122,
   "metadata": {},
   "outputs": [],
   "source": [
    "X_test = X_test.reshape((X_test.shape[0],X_test.shape[1],1))"
   ]
  },
  {
   "cell_type": "code",
   "execution_count": 123,
   "metadata": {},
   "outputs": [
    {
     "data": {
      "text/plain": [
       "(19, 1, 1)"
      ]
     },
     "execution_count": 123,
     "metadata": {},
     "output_type": "execute_result"
    }
   ],
   "source": [
    "X_test.shape"
   ]
  },
  {
   "cell_type": "code",
   "execution_count": 124,
   "metadata": {},
   "outputs": [
    {
     "data": {
      "text/html": [
       "<div>\n",
       "<style scoped>\n",
       "    .dataframe tbody tr th:only-of-type {\n",
       "        vertical-align: middle;\n",
       "    }\n",
       "\n",
       "    .dataframe tbody tr th {\n",
       "        vertical-align: top;\n",
       "    }\n",
       "\n",
       "    .dataframe thead th {\n",
       "        text-align: right;\n",
       "    }\n",
       "</style>\n",
       "<table border=\"1\" class=\"dataframe\">\n",
       "  <thead>\n",
       "    <tr style=\"text-align: right;\">\n",
       "      <th></th>\n",
       "      <th>High</th>\n",
       "    </tr>\n",
       "  </thead>\n",
       "  <tbody>\n",
       "    <tr>\n",
       "      <th>0</th>\n",
       "      <td>789.393921</td>\n",
       "    </tr>\n",
       "    <tr>\n",
       "      <th>1</th>\n",
       "      <td>790.940918</td>\n",
       "    </tr>\n",
       "    <tr>\n",
       "      <th>2</th>\n",
       "      <td>793.979370</td>\n",
       "    </tr>\n",
       "    <tr>\n",
       "      <th>3</th>\n",
       "      <td>807.677124</td>\n",
       "    </tr>\n",
       "    <tr>\n",
       "      <th>4</th>\n",
       "      <td>809.690491</td>\n",
       "    </tr>\n",
       "  </tbody>\n",
       "</table>\n",
       "</div>"
      ],
      "text/plain": [
       "         High\n",
       "0  789.393921\n",
       "1  790.940918\n",
       "2  793.979370\n",
       "3  807.677124\n",
       "4  809.690491"
      ]
     },
     "execution_count": 124,
     "metadata": {},
     "output_type": "execute_result"
    }
   ],
   "source": [
    "y_pred = regressor.predict(X_test)\n",
    "y_pred = sc1.inverse_transform(y_pred)\n",
    "result = pd.DataFrame(y_pred, columns=['High'])\n",
    "result.head()"
   ]
  },
  {
   "cell_type": "code",
   "execution_count": 125,
   "metadata": {},
   "outputs": [],
   "source": [
    "result.to_csv(\"pred_updated.csv\", index=False)"
   ]
  }
 ],
 "metadata": {
  "kernelspec": {
   "display_name": "Python 3",
   "language": "python",
   "name": "python3"
  },
  "language_info": {
   "codemirror_mode": {
    "name": "ipython",
    "version": 3
   },
   "file_extension": ".py",
   "mimetype": "text/x-python",
   "name": "python",
   "nbconvert_exporter": "python",
   "pygments_lexer": "ipython3",
   "version": "3.7.6"
  }
 },
 "nbformat": 4,
 "nbformat_minor": 2
}
