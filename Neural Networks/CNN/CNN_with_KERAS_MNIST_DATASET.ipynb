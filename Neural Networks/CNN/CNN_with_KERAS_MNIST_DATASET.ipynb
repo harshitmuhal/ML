{
  "nbformat": 4,
  "nbformat_minor": 0,
  "metadata": {
    "kernelspec": {
      "display_name": "Python 3",
      "language": "python",
      "name": "python3"
    },
    "language_info": {
      "codemirror_mode": {
        "name": "ipython",
        "version": 3
      },
      "file_extension": ".py",
      "mimetype": "text/x-python",
      "name": "python",
      "nbconvert_exporter": "python",
      "pygments_lexer": "ipython3",
      "version": "3.7.6"
    },
    "colab": {
      "name": "CNN with KERAS MNIST DATASET.ipynb",
      "provenance": []
    },
    "accelerator": "GPU"
  },
  "cells": [
    {
      "cell_type": "code",
      "metadata": {
        "id": "vLmXT3oAVgTi",
        "colab_type": "code",
        "colab": {}
      },
      "source": [
        "import numpy as np\n",
        "from keras.datasets import mnist\n",
        "from keras.layers import Dense,Conv2D,MaxPool2D,Flatten,Dropout\n",
        "from keras.models import Sequential"
      ],
      "execution_count": 1,
      "outputs": []
    },
    {
      "cell_type": "code",
      "metadata": {
        "id": "E2NXOQ8UVgT_",
        "colab_type": "code",
        "colab": {
          "base_uri": "https://localhost:8080/",
          "height": 51
        },
        "outputId": "bf5eb5df-def6-4324-af89-b7a198575e4e"
      },
      "source": [
        "(X,Y),(Xtest,Ytest)=mnist.load_data()"
      ],
      "execution_count": 2,
      "outputs": [
        {
          "output_type": "stream",
          "text": [
            "Downloading data from https://storage.googleapis.com/tensorflow/tf-keras-datasets/mnist.npz\n",
            "11493376/11490434 [==============================] - 0s 0us/step\n"
          ],
          "name": "stdout"
        }
      ]
    },
    {
      "cell_type": "code",
      "metadata": {
        "id": "ds2zhPULVgUD",
        "colab_type": "code",
        "colab": {
          "base_uri": "https://localhost:8080/",
          "height": 51
        },
        "outputId": "2780fa48-cfe7-40d1-df76-11ea9991f52e"
      },
      "source": [
        "print(X.shape,Y.shape)\n",
        "\n",
        "print(np.unique(Y))"
      ],
      "execution_count": 3,
      "outputs": [
        {
          "output_type": "stream",
          "text": [
            "(60000, 28, 28) (60000,)\n",
            "[0 1 2 3 4 5 6 7 8 9]\n"
          ],
          "name": "stdout"
        }
      ]
    },
    {
      "cell_type": "code",
      "metadata": {
        "id": "hNmcOzD8VgUY",
        "colab_type": "code",
        "colab": {
          "base_uri": "https://localhost:8080/",
          "height": 34
        },
        "outputId": "7c1fbf55-8209-4537-8a53-cb9945933e99"
      },
      "source": [
        "from keras.utils import to_categorical\n",
        "X=X.reshape((-1,28,28,1))\n",
        "Xtest=Xtest.reshape((-1,28,28,1))\n",
        "X=X/255 #Normalise\n",
        "Xtest=Xtest/255\n",
        "Y=to_categorical(Y)\n",
        "Ytest=to_categorical(Ytest)\n",
        "print(Y.shape)"
      ],
      "execution_count": 4,
      "outputs": [
        {
          "output_type": "stream",
          "text": [
            "(60000, 10)\n"
          ],
          "name": "stdout"
        }
      ]
    },
    {
      "cell_type": "code",
      "metadata": {
        "id": "RrkmgVuOVgUc",
        "colab_type": "code",
        "colab": {
          "base_uri": "https://localhost:8080/",
          "height": 425
        },
        "outputId": "72a58623-68a8-4420-d17f-d4351af802d0"
      },
      "source": [
        "model=Sequential()\n",
        "model.add(Conv2D(64,(3,3),activation='relu',input_shape=(28,28,1)))\n",
        "# You have to pass 3rd channel as well because keras want to know whether it is grey scale \n",
        "# image (when no of channels=1 ) or an RGB image\n",
        "model.add(Conv2D(32,(3,3),activation='relu'))\n",
        "model.add(MaxPool2D((2,2)))\n",
        "model.add(Conv2D(32,(3,3),activation='relu'))\n",
        "model.add(MaxPool2D((2,2)))\n",
        "model.add(Dropout(0.25))\n",
        "model.add(Flatten())\n",
        "model.add(Dense(10,activation='softmax'))\n",
        "model.summary()"
      ],
      "execution_count": 5,
      "outputs": [
        {
          "output_type": "stream",
          "text": [
            "Model: \"sequential\"\n",
            "_________________________________________________________________\n",
            "Layer (type)                 Output Shape              Param #   \n",
            "=================================================================\n",
            "conv2d (Conv2D)              (None, 26, 26, 64)        640       \n",
            "_________________________________________________________________\n",
            "conv2d_1 (Conv2D)            (None, 24, 24, 32)        18464     \n",
            "_________________________________________________________________\n",
            "max_pooling2d (MaxPooling2D) (None, 12, 12, 32)        0         \n",
            "_________________________________________________________________\n",
            "conv2d_2 (Conv2D)            (None, 10, 10, 32)        9248      \n",
            "_________________________________________________________________\n",
            "max_pooling2d_1 (MaxPooling2 (None, 5, 5, 32)          0         \n",
            "_________________________________________________________________\n",
            "dropout (Dropout)            (None, 5, 5, 32)          0         \n",
            "_________________________________________________________________\n",
            "flatten (Flatten)            (None, 800)               0         \n",
            "_________________________________________________________________\n",
            "dense (Dense)                (None, 10)                8010      \n",
            "=================================================================\n",
            "Total params: 36,362\n",
            "Trainable params: 36,362\n",
            "Non-trainable params: 0\n",
            "_________________________________________________________________\n"
          ],
          "name": "stdout"
        }
      ]
    },
    {
      "cell_type": "code",
      "metadata": {
        "id": "yEk3o4EeVgUh",
        "colab_type": "code",
        "colab": {}
      },
      "source": [
        "model.compile(optimizer='adam',loss='binary_crossentropy',metrics='accuracy')"
      ],
      "execution_count": 6,
      "outputs": []
    },
    {
      "cell_type": "code",
      "metadata": {
        "id": "3KpIZSaLVgVe",
        "colab_type": "code",
        "colab": {
          "base_uri": "https://localhost:8080/",
          "height": 697
        },
        "outputId": "44ecb50b-d9a3-4740-ae7f-5a81035427f7"
      },
      "source": [
        "h=model.fit(X,Y,batch_size=512,epochs=20,validation_split=0.3)"
      ],
      "execution_count": 7,
      "outputs": [
        {
          "output_type": "stream",
          "text": [
            "Epoch 1/20\n",
            "83/83 [==============================] - 2s 28ms/step - loss: 0.1192 - accuracy: 0.7654 - val_loss: 0.0274 - val_accuracy: 0.9552\n",
            "Epoch 2/20\n",
            "83/83 [==============================] - 2s 26ms/step - loss: 0.0281 - accuracy: 0.9524 - val_loss: 0.0176 - val_accuracy: 0.9700\n",
            "Epoch 3/20\n",
            "83/83 [==============================] - 2s 26ms/step - loss: 0.0196 - accuracy: 0.9659 - val_loss: 0.0141 - val_accuracy: 0.9753\n",
            "Epoch 4/20\n",
            "83/83 [==============================] - 2s 25ms/step - loss: 0.0159 - accuracy: 0.9733 - val_loss: 0.0121 - val_accuracy: 0.9790\n",
            "Epoch 5/20\n",
            "83/83 [==============================] - 2s 26ms/step - loss: 0.0135 - accuracy: 0.9768 - val_loss: 0.0108 - val_accuracy: 0.9809\n",
            "Epoch 6/20\n",
            "83/83 [==============================] - 2s 25ms/step - loss: 0.0121 - accuracy: 0.9795 - val_loss: 0.0103 - val_accuracy: 0.9829\n",
            "Epoch 7/20\n",
            "83/83 [==============================] - 2s 25ms/step - loss: 0.0107 - accuracy: 0.9821 - val_loss: 0.0088 - val_accuracy: 0.9848\n",
            "Epoch 8/20\n",
            "83/83 [==============================] - 2s 26ms/step - loss: 0.0095 - accuracy: 0.9839 - val_loss: 0.0090 - val_accuracy: 0.9846\n",
            "Epoch 9/20\n",
            "83/83 [==============================] - 2s 26ms/step - loss: 0.0096 - accuracy: 0.9839 - val_loss: 0.0078 - val_accuracy: 0.9865\n",
            "Epoch 10/20\n",
            "83/83 [==============================] - 2s 26ms/step - loss: 0.0084 - accuracy: 0.9852 - val_loss: 0.0084 - val_accuracy: 0.9860\n",
            "Epoch 11/20\n",
            "83/83 [==============================] - 2s 26ms/step - loss: 0.0080 - accuracy: 0.9864 - val_loss: 0.0075 - val_accuracy: 0.9877\n",
            "Epoch 12/20\n",
            "83/83 [==============================] - 2s 25ms/step - loss: 0.0068 - accuracy: 0.9886 - val_loss: 0.0072 - val_accuracy: 0.9873\n",
            "Epoch 13/20\n",
            "83/83 [==============================] - 2s 25ms/step - loss: 0.0065 - accuracy: 0.9889 - val_loss: 0.0071 - val_accuracy: 0.9888\n",
            "Epoch 14/20\n",
            "83/83 [==============================] - 2s 25ms/step - loss: 0.0061 - accuracy: 0.9895 - val_loss: 0.0071 - val_accuracy: 0.9883\n",
            "Epoch 15/20\n",
            "83/83 [==============================] - 2s 26ms/step - loss: 0.0060 - accuracy: 0.9900 - val_loss: 0.0066 - val_accuracy: 0.9889\n",
            "Epoch 16/20\n",
            "83/83 [==============================] - 2s 25ms/step - loss: 0.0062 - accuracy: 0.9892 - val_loss: 0.0064 - val_accuracy: 0.9897\n",
            "Epoch 17/20\n",
            "83/83 [==============================] - 2s 25ms/step - loss: 0.0063 - accuracy: 0.9891 - val_loss: 0.0065 - val_accuracy: 0.9892\n",
            "Epoch 18/20\n",
            "83/83 [==============================] - 2s 25ms/step - loss: 0.0050 - accuracy: 0.9914 - val_loss: 0.0070 - val_accuracy: 0.9889\n",
            "Epoch 19/20\n",
            "83/83 [==============================] - 2s 25ms/step - loss: 0.0057 - accuracy: 0.9905 - val_loss: 0.0064 - val_accuracy: 0.9892\n",
            "Epoch 20/20\n",
            "83/83 [==============================] - 2s 25ms/step - loss: 0.0048 - accuracy: 0.9917 - val_loss: 0.0063 - val_accuracy: 0.9897\n"
          ],
          "name": "stdout"
        }
      ]
    },
    {
      "cell_type": "code",
      "metadata": {
        "id": "PH01pKIbVgVm",
        "colab_type": "code",
        "colab": {
          "base_uri": "https://localhost:8080/",
          "height": 51
        },
        "outputId": "480be107-c079-43b3-8b0e-528a4b4fbeec"
      },
      "source": [
        "h=model.evaluate(Xtest,Ytest)"
      ],
      "execution_count": 9,
      "outputs": [
        {
          "output_type": "stream",
          "text": [
            "313/313 [==============================] - 1s 2ms/step - loss: 0.0049 - accuracy: 0.9914\n",
            "[0.004935813136398792, 0.9914000034332275]\n"
          ],
          "name": "stdout"
        }
      ]
    },
    {
      "cell_type": "code",
      "metadata": {
        "id": "4NC753GeVgV1",
        "colab_type": "code",
        "colab": {
          "base_uri": "https://localhost:8080/",
          "height": 51
        },
        "outputId": "2e61b6a8-ba9d-4cc9-d002-e0021d4ea26a"
      },
      "source": [
        "print(\"LOSS: \",h[0],\"\\nAccuracy: \",h[1]*100)"
      ],
      "execution_count": 12,
      "outputs": [
        {
          "output_type": "stream",
          "text": [
            "LOSS:  0.004935813136398792 \n",
            "Accuracy:  99.14000034332275\n"
          ],
          "name": "stdout"
        }
      ]
    }
  ]
}