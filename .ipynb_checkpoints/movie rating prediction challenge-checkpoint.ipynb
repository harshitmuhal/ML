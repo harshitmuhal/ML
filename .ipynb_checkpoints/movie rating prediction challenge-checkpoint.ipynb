{
 "cells": [
  {
   "cell_type": "code",
   "execution_count": 26,
   "metadata": {},
   "outputs": [],
   "source": [
    "import numpy as np\n",
    "import matplotlib.pyplot as plt\n",
    "import pandas as pd \n",
    "\n",
    "plt.style.use('seaborn')"
   ]
  },
  {
   "cell_type": "code",
   "execution_count": 27,
   "metadata": {},
   "outputs": [],
   "source": [
    "df=pd.read_csv('Datasets/movie_rating_chall/Train.csv')\n",
    "x=df.values[:,0]\n",
    "df=df.iloc[:,-1]\n",
    "y=df.values"
   ]
  },
  {
   "cell_type": "code",
   "execution_count": 28,
   "metadata": {},
   "outputs": [
    {
     "name": "stdout",
     "output_type": "stream",
     "text": [
      "(40000,) (40000,)\n"
     ]
    }
   ],
   "source": [
    "print(x.shape,y.shape)"
   ]
  },
  {
   "cell_type": "code",
   "execution_count": 29,
   "metadata": {},
   "outputs": [
    {
     "name": "stdout",
     "output_type": "stream",
     "text": [
      "(40000,)\n",
      "[1 1 1 1 1 1 0 0 1 1 0 1 1 0 1 1 1 0 1 1]\n"
     ]
    }
   ],
   "source": [
    "from sklearn.preprocessing import LabelEncoder\n",
    "le=LabelEncoder()\n",
    "y=le.fit_transform(df)\n",
    "print(y.shape)\n",
    "print(y[:20])"
   ]
  },
  {
   "cell_type": "markdown",
   "metadata": {},
   "source": [
    "### cleaning"
   ]
  },
  {
   "cell_type": "code",
   "execution_count": 31,
   "metadata": {},
   "outputs": [],
   "source": [
    "from nltk.tokenize import RegexpTokenizer\n",
    "from nltk.stem import WordNetLemmatizer\n",
    "from nltk.corpus import stopwords\n",
    "\n",
    "tk=RegexpTokenizer(r'\\w+')\n",
    "sw=set(stopwords.words('english'))\n",
    "lm=WordNetLemmatizer()\n",
    "\n",
    "def cleaning(review):\n",
    "    review=review.lower()\n",
    "    review=review.replace('<br /><br />',' ')\n",
    "    tokens=tk.tokenize(review)\n",
    "    tokens=[i for i in tokens if i not in sw]\n",
    "    tokens=[lm.lemmatize(i) for i in tokens]\n",
    "    tokens=' '.join(tokens)\n",
    "    return tokens\n",
    "\n",
    "x_=[]\n",
    "for i in range(x.shape[0]):\n",
    "    x_.append(cleaning(x[i]))\n",
    "x=np.array(x_)"
   ]
  },
  {
   "cell_type": "code",
   "execution_count": 32,
   "metadata": {},
   "outputs": [
    {
     "name": "stdout",
     "output_type": "stream",
     "text": [
      "(40000,)\n",
      "http video google com videoplay docid 211772166650071408 hl en distribution tried br br opted mass appeal br br want best possible viewing range forgo profit continue manual labor job gladly entertain working br br view texas tale please write like like alex like stuie texas texas tale write br br opinion rule\n"
     ]
    }
   ],
   "source": [
    "print(x.shape)\n",
    "print(x[1])"
   ]
  },
  {
   "cell_type": "markdown",
   "metadata": {},
   "source": [
    "### vectorization"
   ]
  },
  {
   "cell_type": "code",
   "execution_count": null,
   "metadata": {},
   "outputs": [],
   "source": [
    "from sklearn.feature_extraction.text import CountVectorizer\n",
    "\n",
    "cv=CountVectorizer(ngram_range=(1,2))\n",
    "x_vec=cv.fit_transform(x)"
   ]
  },
  {
   "cell_type": "code",
   "execution_count": 35,
   "metadata": {},
   "outputs": [
    {
     "name": "stdout",
     "output_type": "stream",
     "text": [
      "  (0, 47039)\t1\n",
      "  (0, 38299)\t1\n",
      "  (0, 34926)\t1\n",
      "  (0, 13422)\t1\n",
      "  (0, 47849)\t1\n",
      "  (0, 78076)\t1\n",
      "  (0, 27710)\t1\n",
      "  (0, 13938)\t1\n",
      "  (0, 454)\t1\n",
      "  (0, 81923)\t2\n",
      "  (0, 72080)\t2\n",
      "  (0, 56078)\t1\n",
      "  (0, 12841)\t1\n",
      "  (0, 44878)\t1\n",
      "  (0, 76875)\t1\n",
      "  (0, 68282)\t1\n",
      "  (0, 53715)\t1\n",
      "  (0, 66337)\t1\n",
      "  (0, 45719)\t1\n",
      "  (0, 27691)\t1\n",
      "  (0, 73755)\t1\n",
      "  (1, 36039)\t1\n",
      "  (1, 80585)\t1\n",
      "  (1, 31749)\t1\n",
      "  (1, 15458)\t1\n",
      "  :\t:\n",
      "  (39999, 41785)\t1\n",
      "  (39999, 33667)\t1\n",
      "  (39999, 33625)\t2\n",
      "  (39999, 31195)\t1\n",
      "  (39999, 54797)\t1\n",
      "  (39999, 62074)\t1\n",
      "  (39999, 82583)\t1\n",
      "  (39999, 65350)\t1\n",
      "  (39999, 26678)\t1\n",
      "  (39999, 69801)\t2\n",
      "  (39999, 17662)\t2\n",
      "  (39999, 64614)\t1\n",
      "  (39999, 17231)\t1\n",
      "  (39999, 35867)\t1\n",
      "  (39999, 44681)\t1\n",
      "  (39999, 39339)\t1\n",
      "  (39999, 29091)\t1\n",
      "  (39999, 48665)\t1\n",
      "  (39999, 81496)\t1\n",
      "  (39999, 69806)\t1\n",
      "  (39999, 51775)\t1\n",
      "  (39999, 35561)\t1\n",
      "  (39999, 51845)\t1\n",
      "  (39999, 66011)\t1\n",
      "  (39999, 68081)\t1\n"
     ]
    }
   ],
   "source": [
    "# print(x_vec)"
   ]
  },
  {
   "cell_type": "code",
   "execution_count": 37,
   "metadata": {},
   "outputs": [],
   "source": [
    "x_vec=x_vec.toarray()"
   ]
  },
  {
   "cell_type": "code",
   "execution_count": null,
   "metadata": {},
   "outputs": [],
   "source": [
    "from sklearn.naive_bayes import MultinomialNB,BernoulliNB,GaussianNB\n",
    "mnb=MultinomialNB()\n",
    "mnb.fit(x_vec,y)"
   ]
  },
  {
   "cell_type": "code",
   "execution_count": null,
   "metadata": {},
   "outputs": [],
   "source": [
    "xtest=pd.read_csv('Datasets/movie_rating_chall/Test/Test.csv')"
   ]
  },
  {
   "cell_type": "code",
   "execution_count": null,
   "metadata": {},
   "outputs": [],
   "source": [
    "ypred=mnb.predict(xtest_vec)"
   ]
  },
  {
   "cell_type": "code",
   "execution_count": null,
   "metadata": {},
   "outputs": [],
   "source": []
  },
  {
   "cell_type": "code",
   "execution_count": null,
   "metadata": {},
   "outputs": [],
   "source": []
  },
  {
   "cell_type": "code",
   "execution_count": null,
   "metadata": {},
   "outputs": [],
   "source": []
  },
  {
   "cell_type": "code",
   "execution_count": null,
   "metadata": {},
   "outputs": [],
   "source": []
  },
  {
   "cell_type": "code",
   "execution_count": null,
   "metadata": {},
   "outputs": [],
   "source": []
  },
  {
   "cell_type": "code",
   "execution_count": null,
   "metadata": {},
   "outputs": [],
   "source": []
  },
  {
   "cell_type": "code",
   "execution_count": null,
   "metadata": {},
   "outputs": [],
   "source": []
  },
  {
   "cell_type": "code",
   "execution_count": null,
   "metadata": {},
   "outputs": [],
   "source": []
  }
 ],
 "metadata": {
  "kernelspec": {
   "display_name": "Python 3",
   "language": "python",
   "name": "python3"
  },
  "language_info": {
   "codemirror_mode": {
    "name": "ipython",
    "version": 3
   },
   "file_extension": ".py",
   "mimetype": "text/x-python",
   "name": "python",
   "nbconvert_exporter": "python",
   "pygments_lexer": "ipython3",
   "version": "3.7.6"
  }
 },
 "nbformat": 4,
 "nbformat_minor": 4
}
