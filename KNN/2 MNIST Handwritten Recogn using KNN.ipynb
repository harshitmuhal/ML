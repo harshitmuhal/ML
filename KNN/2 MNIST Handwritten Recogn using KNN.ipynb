{
 "cells": [
  {
   "cell_type": "code",
   "execution_count": 3,
   "metadata": {},
   "outputs": [],
   "source": [
    "import numpy as np\n",
    "import matplotlib.pyplot as plt\n",
    "import pandas as pd\n",
    "\n",
    "plt.style.use('seaborn')"
   ]
  },
  {
   "cell_type": "code",
   "execution_count": 4,
   "metadata": {},
   "outputs": [
    {
     "name": "stdout",
     "output_type": "stream",
     "text": [
      "(19999, 784) (19999,)\n"
     ]
    }
   ],
   "source": [
    "df=pd.read_csv('Datasets/MNIST-1/train.csv')\n",
    "X=df.values\n",
    "Y=X[:,-1]\n",
    "X=X[:,:-1]\n",
    "print(X.shape,Y.shape)"
   ]
  },
  {
   "cell_type": "code",
   "execution_count": 12,
   "metadata": {},
   "outputs": [],
   "source": [
    "def dist(x1,x2):\n",
    "    return np.sqrt(np.sum((x1-x2)**2))\n",
    "def KNN(X,Y,query,k=20):\n",
    "    distance=[]\n",
    "    size=X.shape[0]\n",
    "    for i in range(size):\n",
    "        d=dist(X[i],query)\n",
    "        distance.append([d,Y[i]])\n",
    "    distance.sort()\n",
    "    distance=distance[:k]\n",
    "    distance=np.array(distance)\n",
    "    distance=np.unique(distance[:,1],return_counts=True)\n",
    "#     print(distance)\n",
    "    return distance[0][distance[1].argmax()]"
   ]
  },
  {
   "cell_type": "code",
   "execution_count": 13,
   "metadata": {},
   "outputs": [
    {
     "name": "stdout",
     "output_type": "stream",
     "text": [
      "(9999, 784) (9999,)\n",
      "Given- 2 Prediction- 2\n",
      "Given- 1 Prediction- 1\n",
      "Given- 0 Prediction- 0\n",
      "Given- 4 Prediction- 4\n"
     ]
    },
    {
     "data": {
      "image/png": "[encoded data removed]",
      "text/plain": [
       "<Figure size 576x396 with 4 Axes>"
      ]
     },
     "metadata": {},
     "output_type": "display_data"
    }
   ],
   "source": [
    "df_test=pd.read_csv('Datasets/MNIST-1/test.csv')\n",
    "X_test=df_test.values\n",
    "df_test.head()\n",
    "Y_test=X_test[:,-1]\n",
    "X_test=X_test[:,:-1]\n",
    "print(X_test.shape,Y_test.shape)\n",
    "for i in range(4):\n",
    "    features=X_test[i].reshape((28,28))\n",
    "    plt.subplot(1,4,i+1)\n",
    "    plt.imshow(features)\n",
    "    print(\"Given-\",Y_test[i],\"Prediction-\",int(KNN(X,Y,X_test[i],10)))\n",
    "plt.show()"
   ]
  },
  {
   "cell_type": "code",
   "execution_count": 14,
   "metadata": {},
   "outputs": [
    {
     "name": "stdout",
     "output_type": "stream",
     "text": [
      "ACCURACY : 0.98989898989899\n"
     ]
    }
   ],
   "source": [
    "correct=0\n",
    "for i in range(Y_test.shape[0]//100):\n",
    "    Y_pred=int(KNN(X,Y,X_test[i],5))\n",
    "    if Y_pred==Y_test[i]:\n",
    "        correct+=1\n",
    "print(\"ACCURACY :\",(correct)/(X_test.shape[0]//100))"
   ]
  },
  {
   "cell_type": "code",
   "execution_count": null,
   "metadata": {},
   "outputs": [],
   "source": []
  }
 ],
 "metadata": {
  "kernelspec": {
   "display_name": "Python 3",
   "language": "python",
   "name": "python3"
  },
  "language_info": {
   "codemirror_mode": {
    "name": "ipython",
    "version": 3
   },
   "file_extension": ".py",
   "mimetype": "text/x-python",
   "name": "python",
   "nbconvert_exporter": "python",
   "pygments_lexer": "ipython3",
   "version": "3.7.6"
  }
 },
 "nbformat": 4,
 "nbformat_minor": 4
}
